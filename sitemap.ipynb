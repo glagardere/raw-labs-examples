{
 "cells": [
  {
   "cell_type": "code",
   "execution_count": 2,
   "id": "c5a363c3",
   "metadata": {},
   "outputs": [],
   "source": [
    "%reload_ext raw_magic"
   ]
  },
  {
   "cell_type": "code",
   "execution_count": 99,
   "id": "fe97c1e0",
   "metadata": {},
   "outputs": [
    {
     "data": {
      "text/html": [
       "<table class=\"nested-table\">\n",
       "<tr><th colspan=\"1\" rowspan=\"1\">loc</th><th colspan=\"1\" rowspan=\"1\">lastmod</th></tr>\n",
       "<tr><td colspan=\"1\" rowspan=\"1\" class=\"\">http://www.nasa.gov/sitemap-1.xml</td><td colspan=\"1\" rowspan=\"1\" class=\"\">2021-07-13T12:30Z</td></tr>\n",
       "<tr><td colspan=\"1\" rowspan=\"1\" class=\"\">http://www.nasa.gov/sitemap-2.xml</td><td colspan=\"1\" rowspan=\"1\" class=\"\">2021-07-13T12:30Z</td></tr>\n",
       "<tr><td colspan=\"1\" rowspan=\"1\" class=\"\">http://www.nasa.gov/sitemap-3.xml</td><td colspan=\"1\" rowspan=\"1\" class=\"\">2021-07-13T12:30Z</td></tr>\n",
       "<tr><td colspan=\"1\" rowspan=\"1\" class=\"\">http://www.nasa.gov/sitemap-4.xml</td><td colspan=\"1\" rowspan=\"1\" class=\"\">2021-07-13T12:30Z</td></tr>\n",
       "<tr><td colspan=\"1\" rowspan=\"1\" class=\"\">http://www.nasa.gov/sitemap-5.xml</td><td colspan=\"1\" rowspan=\"1\" class=\"\">2021-07-13T12:30Z</td></tr>\n",
       "</table>"
      ],
      "text/plain": [
       "<raw_magic.nested_table.NestedTable at 0x229bdcec8e0>"
      ]
     },
     "execution_count": 99,
     "metadata": {},
     "output_type": "execute_result"
    }
   ],
   "source": [
    "%%query\n",
    "\n",
    "select loc,lastmod from read_xml(\"https://www.nasa.gov/sitemap.xml\").sitemap"
   ]
  },
  {
   "cell_type": "code",
   "execution_count": 101,
   "id": "79209a8c",
   "metadata": {},
   "outputs": [
    {
     "data": {
      "text/html": [
       "<table class=\"nested-table\">\n",
       "<tr><th colspan=\"1\" rowspan=\"2\">format</th><th colspan=\"1\" rowspan=\"2\">comment</th><th colspan=\"1\" rowspan=\"2\">type</th><th colspan=\"2\" rowspan=\"1\">properties</th><th colspan=\"1\" rowspan=\"2\">is_collection</th><th colspan=\"3\" rowspan=\"1\">columns</th></tr>\n",
       "<tr><th colspan=\"1\" rowspan=\"1\">name</th><th colspan=\"1\" rowspan=\"1\">value</th><th colspan=\"1\" rowspan=\"1\">col_name</th><th colspan=\"1\" rowspan=\"1\">col_type</th><th colspan=\"1\" rowspan=\"1\">nullable</th></tr>\n",
       "<tr><td colspan=\"1\" rowspan=\"1\" class=\"\">xml</td><td colspan=\"1\" rowspan=\"1\" class=\"\">encoding iso-8859-2 (confidence: 17%)</td><td colspan=\"1\" rowspan=\"1\" class=\"\">record(`sitemap`: collection(record(`loc`: string,`lastmod`: string)))</td><td colspan=\"2\" rowspan=\"1\" class=\"empty-value\">empty</td><td colspan=\"1\" rowspan=\"1\" class=\"\">False</td><td colspan=\"1\" rowspan=\"1\" class=\"\">sitemap</td><td colspan=\"1\" rowspan=\"1\" class=\"\">collection(record(`loc`: string,`lastmod`: string))</td><td colspan=\"1\" rowspan=\"1\" class=\"\">False</td></tr>\n",
       "</table>"
      ],
      "text/plain": [
       "<raw_magic.nested_table.NestedTable at 0x229bdce9a90>"
      ]
     },
     "execution_count": 101,
     "metadata": {},
     "output_type": "execute_result"
    }
   ],
   "source": [
    "%%query\n",
    "describe(\"https://www.nasa.gov/sitemap.xml\")"
   ]
  },
  {
   "cell_type": "code",
   "execution_count": 3,
   "id": "2bcecc6e",
   "metadata": {},
   "outputs": [
    {
     "data": {
      "text/html": [
       "<table class=\"nested-table\">\n",
       "<tr><th colspan=\"1\" rowspan=\"2\">format</th><th colspan=\"1\" rowspan=\"2\">comment</th><th colspan=\"1\" rowspan=\"2\">type</th><th colspan=\"2\" rowspan=\"1\">properties</th><th colspan=\"1\" rowspan=\"2\">is_collection</th><th colspan=\"3\" rowspan=\"1\">columns</th></tr>\n",
       "<tr><th colspan=\"1\" rowspan=\"1\">name</th><th colspan=\"1\" rowspan=\"1\">value</th><th colspan=\"1\" rowspan=\"1\">col_name</th><th colspan=\"1\" rowspan=\"1\">col_type</th><th colspan=\"1\" rowspan=\"1\">nullable</th></tr>\n",
       "<tr><td colspan=\"1\" rowspan=\"1\" class=\"\">xml</td><td colspan=\"1\" rowspan=\"1\" class=\"\">encoding iso-8859-1 (confidence: 18%)</td><td colspan=\"1\" rowspan=\"1\" class=\"\">record(`url`: collection(record(`loc`: string,`changefreq`: string,`priority`: double nullable,`lastmod`: string nullable)))</td><td colspan=\"2\" rowspan=\"1\" class=\"empty-value\">empty</td><td colspan=\"1\" rowspan=\"1\" class=\"\">False</td><td colspan=\"1\" rowspan=\"1\" class=\"\">url</td><td colspan=\"1\" rowspan=\"1\" class=\"\">collection(record(`loc`: string,`changefreq`: string,`priority`: double nullable,`lastmod`: string nullable))</td><td colspan=\"1\" rowspan=\"1\" class=\"\">False</td></tr>\n",
       "</table>"
      ],
      "text/plain": [
       "<raw_magic.nested_table.NestedTable at 0x1ce466757f0>"
      ]
     },
     "execution_count": 3,
     "metadata": {},
     "output_type": "execute_result"
    }
   ],
   "source": [
    "%%query\n",
    "describe(\"http://www.nasa.gov/sitemap-1.xml\")"
   ]
  },
  {
   "cell_type": "code",
   "execution_count": 80,
   "id": "5b2e0086",
   "metadata": {
    "scrolled": true
   },
   "outputs": [
    {
     "data": {
      "text/html": [
       "<table class=\"nested-table\">\n",
       "<tr><th colspan=\"1\" rowspan=\"1\">loc</th><th colspan=\"1\" rowspan=\"1\">lastmod</th></tr>\n",
       "<tr><td colspan=\"1\" rowspan=\"1\" class=\"\">http://www.nasa.gov/ames/research/space-life-sciences-training-program/slstp-previous-programs-2020</td><td colspan=\"1\" rowspan=\"1\" class=\"\">2021-06-25T01:50Z</td></tr>\n",
       "<tr><td colspan=\"1\" rowspan=\"1\" class=\"\">http://www.nasa.gov/feature/vehicle-acceleration-limits-library</td><td colspan=\"1\" rowspan=\"1\" class=\"\">2021-06-24T21:56Z</td></tr>\n",
       "<tr><td colspan=\"1\" rowspan=\"1\" class=\"\">http://www.nasa.gov/offices/ochmo/human_spaceflight/index.html</td><td colspan=\"1\" rowspan=\"1\" class=\"\">2021-06-24T21:38Z</td></tr>\n",
       "<tr><td colspan=\"1\" rowspan=\"1\" class=\"\">http://www.nasa.gov/feature/chief-of-staff-susie-perez-quinn</td><td colspan=\"1\" rowspan=\"1\" class=\"\">2021-06-24T20:07Z</td></tr>\n",
       "<tr><td colspan=\"1\" rowspan=\"1\" class=\"\">http://www.nasa.gov/press-release/goddard/2021/nasa-selects-environmental-services-contractor</td><td colspan=\"1\" rowspan=\"1\" class=\"\">2021-06-24T20:06Z</td></tr>\n",
       "<tr><td colspan=\"1\" rowspan=\"1\" class=\"\">http://www.nasa.gov/offices/ochmo/main/index.html</td><td colspan=\"1\" rowspan=\"1\" class=\"\">2021-06-24T20:05Z</td></tr>\n",
       "<tr><td colspan=\"1\" rowspan=\"1\" class=\"\">http://www.nasa.gov/feature/deputy-chief-of-staff-bale-dalton</td><td colspan=\"1\" rowspan=\"1\" class=\"\">2021-06-24T20:03Z</td></tr>\n",
       "<tr><td colspan=\"1\" rowspan=\"1\" class=\"\">http://www.nasa.gov/offices/ochmo/cvo/regulations</td><td colspan=\"1\" rowspan=\"1\" class=\"\">2021-06-24T19:55Z</td></tr>\n",
       "<tr><td colspan=\"1\" rowspan=\"1\" class=\"\">http://www.nasa.gov/feature/senior-advisor-for-engagement-shahra-lambert</td><td colspan=\"1\" rowspan=\"1\" class=\"\">2021-06-24T19:47Z</td></tr>\n",
       "<tr><td colspan=\"1\" rowspan=\"1\" class=\"\">http://www.nasa.gov/press-release/nasa-administrator-announces-new-members-of-leadership-team</td><td colspan=\"1\" rowspan=\"1\" class=\"\">2021-06-24T19:44Z</td></tr>\n",
       "</table>"
      ],
      "text/plain": [
       "<raw_magic.nested_table.NestedTable at 0x229bbd5d670>"
      ]
     },
     "execution_count": 80,
     "metadata": {},
     "output_type": "execute_result"
    }
   ],
   "source": [
    "%%query\n",
    "// retrieving all index files\n",
    "updated_urls := select * from read_xml(\"https://www.nasa.gov/sitemap.xml\").sitemap;\n",
    "\n",
    "// creating a typealias for the sitemap so that read_xml knows about the structure\n",
    "typealias loclastmod := record(\n",
    "    url: collection(\n",
    "        record(\n",
    "            loc: string,\n",
    "            lastmod: string nullable)));\n",
    "\n",
    "// reading the content\n",
    "select url from updated_urls uu, read_xml[loclastmod](uu.loc).url url\n",
    "         order by url.lastmod desc\n",
    "         limit 10"
   ]
  },
  {
   "cell_type": "code",
   "execution_count": 88,
   "id": "2898697d",
   "metadata": {},
   "outputs": [
    {
     "data": {
      "text/html": [
       "<table class=\"nested-table\">\n",
       "<tr><th colspan=\"1\" rowspan=\"1\">loc</th><th colspan=\"1\" rowspan=\"1\">lastmod</th></tr>\n",
       "<tr><td colspan=\"1\" rowspan=\"1\" class=\"\">http://www.nasa.gov/ames/research/space-life-sciences-training-program/slstp-previous-programs-2020</td><td colspan=\"1\" rowspan=\"1\" class=\"\">2021-06-25T01:50Z</td></tr>\n",
       "<tr><td colspan=\"1\" rowspan=\"1\" class=\"\">http://www.nasa.gov/feature/vehicle-acceleration-limits-library</td><td colspan=\"1\" rowspan=\"1\" class=\"\">2021-06-24T21:56Z</td></tr>\n",
       "<tr><td colspan=\"1\" rowspan=\"1\" class=\"\">http://www.nasa.gov/offices/ochmo/human_spaceflight/index.html</td><td colspan=\"1\" rowspan=\"1\" class=\"\">2021-06-24T21:38Z</td></tr>\n",
       "<tr><td colspan=\"1\" rowspan=\"1\" class=\"\">http://www.nasa.gov/feature/chief-of-staff-susie-perez-quinn</td><td colspan=\"1\" rowspan=\"1\" class=\"\">2021-06-24T20:07Z</td></tr>\n",
       "<tr><td colspan=\"1\" rowspan=\"1\" class=\"\">http://www.nasa.gov/press-release/goddard/2021/nasa-selects-environmental-services-contractor</td><td colspan=\"1\" rowspan=\"1\" class=\"\">2021-06-24T20:06Z</td></tr>\n",
       "<tr><td colspan=\"1\" rowspan=\"1\" class=\"\">http://www.nasa.gov/offices/ochmo/main/index.html</td><td colspan=\"1\" rowspan=\"1\" class=\"\">2021-06-24T20:05Z</td></tr>\n",
       "<tr><td colspan=\"1\" rowspan=\"1\" class=\"\">http://www.nasa.gov/feature/deputy-chief-of-staff-bale-dalton</td><td colspan=\"1\" rowspan=\"1\" class=\"\">2021-06-24T20:03Z</td></tr>\n",
       "<tr><td colspan=\"1\" rowspan=\"1\" class=\"\">http://www.nasa.gov/offices/ochmo/cvo/regulations</td><td colspan=\"1\" rowspan=\"1\" class=\"\">2021-06-24T19:55Z</td></tr>\n",
       "<tr><td colspan=\"1\" rowspan=\"1\" class=\"\">http://www.nasa.gov/feature/senior-advisor-for-engagement-shahra-lambert</td><td colspan=\"1\" rowspan=\"1\" class=\"\">2021-06-24T19:47Z</td></tr>\n",
       "<tr><td colspan=\"1\" rowspan=\"1\" class=\"\">http://www.nasa.gov/press-release/nasa-administrator-announces-new-members-of-leadership-team</td><td colspan=\"1\" rowspan=\"1\" class=\"\">2021-06-24T19:44Z</td></tr>\n",
       "</table>"
      ],
      "text/plain": [
       "<raw_magic.nested_table.NestedTable at 0x229bbd47f40>"
      ]
     },
     "execution_count": 88,
     "metadata": {},
     "output_type": "execute_result"
    }
   ],
   "source": [
    "%%query\n",
    "\n",
    "typealias indexfile := record(`sitemap`: collection(record(`loc`: string,`lastmod`: string)));\n",
    "sm := \"https://www.nasa.gov/sitemap.xml\";\n",
    "\n",
    "// retrieving all index files\n",
    "updated_urls := select * from read_xml[indexfile](sm).sitemap;\n",
    "\n",
    "// creating a typealias for the sitemap so that read_xml knows about the structure\n",
    "typealias loclastmod := record(\n",
    "    url: collection(\n",
    "        record(\n",
    "            loc: string,\n",
    "            lastmod: string nullable)));\n",
    "\n",
    "// reading the content\n",
    "select url from updated_urls uu, read_xml[loclastmod](uu.loc).url url\n",
    "         order by url.lastmod desc\n",
    "         limit 10"
   ]
  },
  {
   "cell_type": "code",
   "execution_count": 95,
   "id": "c9c925fc",
   "metadata": {},
   "outputs": [
    {
     "data": {
      "text/plain": [
       "Package \"sitemap\" replaced"
      ]
     },
     "execution_count": 95,
     "metadata": {},
     "output_type": "execute_result"
    }
   ],
   "source": [
    "%%package sitemap\n",
    "\n",
    "// creating typealias for the index file\n",
    "typealias indexfile := record(`sitemap`: collection(record(`loc`: string,`lastmod`: string)));\n",
    "\n",
    "// retrieving all index files\n",
    "updated_urls(website: string) := select * from read_xml[indexfile](website+\"/sitemap.xml\").sitemap;\n",
    "\n",
    "// creating a typealias for the sitemap so that read_xml knows about the structure\n",
    "typealias loclastmod := record(\n",
    "    url: collection(\n",
    "        record(\n",
    "            loc: string,\n",
    "            lastmod: string nullable)));\n",
    "\n",
    "// reading the content\n",
    "recentpages(website: string) := select url from updated_urls(website) uu, read_xml[loclastmod](uu.loc).url url\n",
    "         order by url.lastmod desc\n",
    "         limit 10\n"
   ]
  },
  {
   "cell_type": "code",
   "execution_count": 107,
   "id": "744daeb6",
   "metadata": {},
   "outputs": [
    {
     "data": {
      "text/html": [
       "<table class=\"nested-table\">\n",
       "<tr><th colspan=\"1\" rowspan=\"1\">loc</th><th colspan=\"1\" rowspan=\"1\">lastmod</th></tr>\n",
       "<tr><td colspan=\"1\" rowspan=\"1\" class=\"\">https://www.virgingalactic.com/articles/virgin-galactic-successfully-completes-first-fully-crewed-spaceflight/</td><td colspan=\"1\" rowspan=\"1\" class=\"\">2021-07-11T16:54:26+00:00</td></tr>\n",
       "<tr><td colspan=\"1\" rowspan=\"1\" class=\"\">https://www.virgingalactic.com/articles/virgin-galactic-announces-first-fully-crewed-spaceflight/</td><td colspan=\"1\" rowspan=\"1\" class=\"\">2021-07-01T22:19:37+00:00</td></tr>\n",
       "<tr><td colspan=\"1\" rowspan=\"1\" class=\"\">https://www.virgingalactic.com/who-we-are/our-team/</td><td colspan=\"1\" rowspan=\"1\" class=\"\">2021-07-01T19:40:13+00:00</td></tr>\n",
       "<tr><td colspan=\"1\" rowspan=\"1\" class=\"\">https://www.virgingalactic.com/successmissionupdate/</td><td colspan=\"1\" rowspan=\"1\" class=\"\">2021-06-29T10:25:17+00:00</td></tr>\n",
       "<tr><td colspan=\"1\" rowspan=\"1\" class=\"\">https://www.virgingalactic.com/register/</td><td colspan=\"1\" rowspan=\"1\" class=\"\">2021-06-25T16:49:26+00:00</td></tr>\n",
       "<tr><td colspan=\"1\" rowspan=\"1\" class=\"\">https://www.virgingalactic.com/articles/virgin-galactic-receives-approval-from-faa-for-full-commercial-launch-license-following-success-of-may-test-flight/</td><td colspan=\"1\" rowspan=\"1\" class=\"\">2021-06-25T11:04:53+00:00</td></tr>\n",
       "<tr><td colspan=\"1\" rowspan=\"1\" class=\"\">https://www.virgingalactic.com/join/</td><td colspan=\"1\" rowspan=\"1\" class=\"\">2021-06-17T13:49:26+00:00</td></tr>\n",
       "<tr><td colspan=\"1\" rowspan=\"1\" class=\"\">https://www.virgingalactic.com/articles/virgin-galactic-announces-new-contract-for-human-tended-research-spaceflight/</td><td colspan=\"1\" rowspan=\"1\" class=\"\">2021-06-03T10:46:06+00:00</td></tr>\n",
       "<tr><td colspan=\"1\" rowspan=\"1\" class=\"\">https://www.virgingalactic.com/missionupdate/</td><td colspan=\"1\" rowspan=\"1\" class=\"\">2021-05-26T13:09:38+00:00</td></tr>\n",
       "<tr><td colspan=\"1\" rowspan=\"1\" class=\"\">https://www.virgingalactic.com/articles/virgin-galactic-completes-first-human-spaceflight-from-spaceport-america-new-mexico/</td><td colspan=\"1\" rowspan=\"1\" class=\"\">2021-05-22T17:03:34+00:00</td></tr>\n",
       "</table>"
      ],
      "text/plain": [
       "<raw_magic.nested_table.NestedTable at 0x229bdce9d00>"
      ]
     },
     "execution_count": 107,
     "metadata": {},
     "output_type": "execute_result"
    }
   ],
   "source": [
    "%%query\n",
    "from sitemap import recentpages\n",
    "recentpages(\"https://www.virgingalactic.com/\")"
   ]
  },
  {
   "cell_type": "code",
   "execution_count": null,
   "id": "6bc45231",
   "metadata": {},
   "outputs": [],
   "source": []
  }
 ],
 "metadata": {
  "kernelspec": {
   "display_name": "Python 3",
   "language": "python",
   "name": "python3"
  },
  "language_info": {
   "codemirror_mode": {
    "name": "ipython",
    "version": 3
   },
   "file_extension": ".py",
   "mimetype": "text/x-python",
   "name": "python",
   "nbconvert_exporter": "python",
   "pygments_lexer": "ipython3",
   "version": "3.9.5"
  }
 },
 "nbformat": 4,
 "nbformat_minor": 5
}
